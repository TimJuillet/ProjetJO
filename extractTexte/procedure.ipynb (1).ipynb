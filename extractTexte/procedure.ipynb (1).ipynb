{
 "cells": [
  {
   "cell_type": "code",
   "id": "initial_id",
   "metadata": {
    "ExecuteTime": {
     "end_time": "2025-01-21T13:59:05.088918Z",
     "start_time": "2025-01-21T13:58:58.314790Z"
    }
   },
   "source": [
    "from pathlib import Path\n",
    "from transformers import pipeline\n",
    "import networkx as nx\n",
    "import matplotlib.pyplot as plt\n",
    "from nltk.tokenize import sent_tokenize\n",
    "import nltk\n",
    "nltk.download(\"punkt_tab\")"
   ],
   "outputs": [
    {
     "name": "stderr",
     "output_type": "stream",
     "text": [
      "C:\\Users\\sayfe\\Desktop\\PolytechS9_2\\web_semantique\\WebSem_movie_project\\.venv\\lib\\site-packages\\tqdm\\auto.py:21: TqdmWarning: IProgress not found. Please update jupyter and ipywidgets. See https://ipywidgets.readthedocs.io/en/stable/user_install.html\n",
      "  from .autonotebook import tqdm as notebook_tqdm\n",
      "[nltk_data] Downloading package punkt_tab to\n",
      "[nltk_data]     C:\\Users\\sayfe\\AppData\\Roaming\\nltk_data...\n",
      "[nltk_data]   Package punkt_tab is already up-to-date!\n"
     ]
    },
    {
     "data": {
      "text/plain": [
       "True"
      ]
     },
     "execution_count": 2,
     "metadata": {},
     "output_type": "execute_result"
    }
   ],
   "execution_count": 2
  },
  {
   "cell_type": "code",
   "id": "3bac89847f3feb9c",
   "metadata": {
    "ExecuteTime": {
     "end_time": "2025-01-21T14:17:54.497283Z",
     "start_time": "2025-01-21T14:17:43.868908Z"
    }
   },
   "source": [
    "# Load the triplet extractor\n",
    "triplet_extractor = pipeline('text2text-generation', model='Babelscape/rebel-large', tokenizer='Babelscape/rebel-large')\n",
    "print(\"triplet extractor loaded\")"
   ],
   "outputs": [
    {
     "name": "stderr",
     "output_type": "stream",
     "text": [
      "All PyTorch model weights were used when initializing TFBartForConditionalGeneration.\n",
      "\n",
      "All the weights of TFBartForConditionalGeneration were initialized from the PyTorch model.\n",
      "If your task is similar to the task the model of the checkpoint was trained on, you can already use TFBartForConditionalGeneration for predictions without further training.\n",
      "Device set to use 0\n"
     ]
    },
    {
     "name": "stdout",
     "output_type": "stream",
     "text": [
      "triplet extractor loaded\n"
     ]
    }
   ],
   "execution_count": 23
  },
  {
   "metadata": {
    "ExecuteTime": {
     "end_time": "2025-01-21T14:17:43.776007Z",
     "start_time": "2025-01-21T14:17:43.748932Z"
    }
   },
   "cell_type": "code",
   "outputs": [
    {
     "name": "stdout",
     "output_type": "stream",
     "text": [
      "['ï»¿Kevin Spacey and Thora Birch appear in a scene from American Beauty.', 'The film won the Oscar for Best Picture at the 2000 Academy Awards.', 'Kevin Spacey also received the Best Actor Oscar for his role as Lester, and the film won three additional Oscars for Best Director (Sam Mendes), Best Original Screenplay (Alan Ball), and Best Cinematography (Conrad L. Hall).', 'In 2001, Gladiator tells the story of Roman General Maximus, played by Russell Crowe, who becomes a gladiator to avenge the murder of his family.', 'This film won the Oscar for Best Picture at the 2001 ceremony.', 'Russell Crowe earned the Best Actor Oscar for his outstanding performance, and the film also won Oscars for Best Costume Design, Best Sound, and Best Visual Effects.', 'The biographical drama A Beautiful Mind, released in 2002, follows mathematical genius John Forbes Nash Jr., played by Russell Crowe, who struggles with schizophrenia while developing a loving relationship with Alicia Larde, portrayed by Jennifer Connelly.', 'The film won the Oscar for Best Picture, and Jennifer Connelly received the Best Supporting Actress Oscar.', 'Additionally, the film won Oscars for Best Director (Ron Howard) and Best Adapted Screenplay (Akiva Goldsman).', 'In 2003, Chicago features Catherine Zeta-Jones in her performance of All That Jazz, an adaptation of the famous Broadway show.', 'This film won the Oscar for Best Picture at the 2003 ceremony, and Zeta-Jones won the Oscar for Best Supporting Actress.', 'The film also received Oscars for Best Art Direction, Best Costume Design, Best Film Editing, Best Sound Mixing, and Best Actress in a Supporting Role (RenÃ©e Zellweger was nominated for Best Actress).', 'In 2004, The Lord of the Rings: The Return of the King, the third installment of the epic trilogy directed by Peter Jackson, swept the Oscars, winning all 11 categories in which it was nominated.', 'These included Best Picture, Best Director (Peter Jackson), Best Adapted Screenplay, Best Original Score, Best Original Song (Into the West), and technical awards like Best Visual Effects, Best Art Direction, and Best Costume Design.', 'Million Dollar Baby, released in 2005, tells the moving story of a determined female boxer, played by Hilary Swank, and her trainer, portrayed by Clint Eastwood.', 'The film won the Oscar for Best Picture, Hilary Swank received her second Oscar for Best Actress, and Morgan Freeman won the Oscar for Best Supporting Actor.', 'Clint Eastwood also won the Oscar for Best Director, and the film was nominated for Best Editing.', 'Crash, which explores racial tensions in Los Angeles through interwoven stories of prejudice and redemption, won the Oscar for Best Picture at the 2006 ceremony.', 'It also received Oscars for Best Original Screenplay and Best Film Editing.', 'In 2007, The Departed by Martin Scorsese tells the gripping story of two menâ€”one infiltrating the police and the other spying for the mafia.', 'This film won the Oscar for Best Picture and finally earned Scorsese the Oscar for Best Director.', 'It also won Oscars for Best Adapted Screenplay and Best Film Editing.', 'No Country for Old Men, a neo-Western thriller released in 2008, features Javier Bardem as the chilling Anton Chigurh.', 'The film won the Oscar for Best Picture, and Bardem received the Oscar for Best Supporting Actor.', 'Additionally, the film won Oscars for Best Director (Joel and Ethan Coen), Best Adapted Screenplay, and Best Film Editing.', 'In 2009, Slumdog Millionaire tells the story of an orphan from the slums who participates in the game show Who Wants to Be a Millionaire?.', 'Accused of cheating, he must recount his life story to prove his innocence.', 'The film won eight Oscars, including Best Picture, Best Director (Danny Boyle), Best Adapted Screenplay, Best Cinematography, Best Film Editing, Best Original Score, Best Original Song (Jai Ho), and Best Sound Mixing.', 'In 2010, The Kings Speech follows King George VI, played by Colin Firth, as he overcomes his stammer to deliver an inspiring speech.', 'The film won four Oscars: Best Picture, Best Director (Tom Hooper), Best Actor (Colin Firth), and Best Original Screenplay.', 'In 2011, The Artist, a silent film, charmed critics and audiences alike by reflecting on the evolution of cinema and the transition to talkies.', 'It won five Oscars, including Best Picture, Best Actor (Jean Dujardin), Best Director (Michel Hazanavicius), Best Original Score, and Best Costume Design.', 'Argo, released in 2012, directed by and starring Ben Affleck, is a gripping thriller based on a true story.', 'It recounts the rescue of six Americans during the Iranian Revolution.', 'The film won three Oscars: Best Picture, Best Adapted Screenplay, and Best Film Editing.', 'In 2013, 12 Years a Slave tells the harrowing story of Solomon Northup, who was kidnapped and sold into slavery.', \"This powerful and emotionally devastating film captivated audiences and won three Oscars: Best Picture, Best Supporting Actress (Lupita Nyong'o), and Best Adapted Screenplay.\", 'In 2014, Birdman stars Michael Keaton as a washed-up actor trying to revive his career.', 'Despite its technical audacity, some viewers found the plot lacking depth.', 'The film won four Oscars: Best Picture, Best Director (Alejandro G. IÃ±Ã¡rritu), Best Original Screenplay, and Best Cinematography.', 'In 2015, Spotlight chronicles the Boston Globeâ€™s investigation into systemic abuse within the Catholic Church.', 'This universally praised film won two Oscars: Best Picture and Best Original Screenplay.', 'Moonlight, in 2016, explores identity and human emotion through three pivotal stages in a manâ€™s life.', \"This raw and poignant narrative captured audiences' attention and won three Oscars: Best Picture, Best Supporting Actor (Mahershala Ali), and Best Adapted Screenplay.\", 'In 2017, Guillermo del Toro delivered a fantastical romance with The Shape of Water, which tells the story of a mute woman discovering a classified experiment.', 'The film won four Oscars: Best Picture, Best Director (Guillermo del Toro), Best Original Score, and Best Production Design.', 'In 2018, Green Book explores the friendship between an African-American pianist and his Italian-American driver during a racially charged journey in the 1960s.', 'The film won three Oscars: Best Picture, Best Supporting Actor (Mahershala Ali), and Best Original Screenplay.', 'In 2019, Bong Joon-hoâ€™s Parasite made history as the first non-English-language film to win the Oscar for Best Picture.', 'It tells the story of two families, one wealthy and the other poor, and the intersection of their lives.', 'The film won four Oscars: Best Picture, Best Director (Bong Joon-ho), Best Original Screenplay, and Best International Feature Film.']\n"
     ]
    }
   ],
   "execution_count": 19,
   "source": [
    "#path to text\n",
    "input_file = Path(\"../data/oscars_text.txt\")\n",
    "# Read and preprocess text\n",
    "input_text = input_file.read_text()\n",
    "# Tokenize into sentences\n",
    "sentences = sent_tokenize(input_text)\n",
    "print(sentences)"
   ],
   "id": "1bb9e8a2deee650f"
  },
  {
   "metadata": {
    "ExecuteTime": {
     "end_time": "2025-01-21T14:17:43.790754Z",
     "start_time": "2025-01-21T14:17:43.783226Z"
    }
   },
   "cell_type": "code",
   "outputs": [
    {
     "name": "stdout",
     "output_type": "stream",
     "text": [
      "['ï»¿Kevin Spacey and Thora Birch appear in a scene from American Beauty. The film won the Oscar for Best Picture at the 2000 Academy Awards. Kevin Spacey also received the Best Actor Oscar for his role as Lester, and the film won three additional Oscars for Best Director (Sam Mendes), Best Original Screenplay (Alan Ball), and Best Cinematography (Conrad L. Hall).', 'In 2001, Gladiator tells the story of Roman General Maximus, played by Russell Crowe, who becomes a gladiator to avenge the murder of his family. This film won the Oscar for Best Picture at the 2001 ceremony. Russell Crowe earned the Best Actor Oscar for his outstanding performance, and the film also won Oscars for Best Costume Design, Best Sound, and Best Visual Effects.', 'The biographical drama A Beautiful Mind, released in 2002, follows mathematical genius John Forbes Nash Jr., played by Russell Crowe, who struggles with schizophrenia while developing a loving relationship with Alicia Larde, portrayed by Jennifer Connelly. The film won the Oscar for Best Picture, and Jennifer Connelly received the Best Supporting Actress Oscar. Additionally, the film won Oscars for Best Director (Ron Howard) and Best Adapted Screenplay (Akiva Goldsman).', 'In 2003, Chicago features Catherine Zeta-Jones in her performance of All That Jazz, an adaptation of the famous Broadway show. This film won the Oscar for Best Picture at the 2003 ceremony, and Zeta-Jones won the Oscar for Best Supporting Actress. The film also received Oscars for Best Art Direction, Best Costume Design, Best Film Editing, Best Sound Mixing, and Best Actress in a Supporting Role (RenÃ©e Zellweger was nominated for Best Actress).', 'In 2004, The Lord of the Rings: The Return of the King, the third installment of the epic trilogy directed by Peter Jackson, swept the Oscars, winning all 11 categories in which it was nominated. These included Best Picture, Best Director (Peter Jackson), Best Adapted Screenplay, Best Original Score, Best Original Song (Into the West), and technical awards like Best Visual Effects, Best Art Direction, and Best Costume Design.', 'Million Dollar Baby, released in 2005, tells the moving story of a determined female boxer, played by Hilary Swank, and her trainer, portrayed by Clint Eastwood. The film won the Oscar for Best Picture, Hilary Swank received her second Oscar for Best Actress, and Morgan Freeman won the Oscar for Best Supporting Actor. Clint Eastwood also won the Oscar for Best Director, and the film was nominated for Best Editing.', 'Crash, which explores racial tensions in Los Angeles through interwoven stories of prejudice and redemption, won the Oscar for Best Picture at the 2006 ceremony. It also received Oscars for Best Original Screenplay and Best Film Editing.', 'In 2007, The Departed by Martin Scorsese tells the gripping story of two menâ€”one infiltrating the police and the other spying for the mafia. This film won the Oscar for Best Picture and finally earned Scorsese the Oscar for Best Director. It also won Oscars for Best Adapted Screenplay and Best Film Editing.', 'No Country for Old Men, a neo-Western thriller released in 2008, features Javier Bardem as the chilling Anton Chigurh. The film won the Oscar for Best Picture, and Bardem received the Oscar for Best Supporting Actor. Additionally, the film won Oscars for Best Director (Joel and Ethan Coen), Best Adapted Screenplay, and Best Film Editing.', 'In 2009, Slumdog Millionaire tells the story of an orphan from the slums who participates in the game show Who Wants to Be a Millionaire?. Accused of cheating, he must recount his life story to prove his innocence. The film won eight Oscars, including Best Picture, Best Director (Danny Boyle), Best Adapted Screenplay, Best Cinematography, Best Film Editing, Best Original Score, Best Original Song (Jai Ho), and Best Sound Mixing.', 'In 2010, The Kings Speech follows King George VI, played by Colin Firth, as he overcomes his stammer to deliver an inspiring speech. The film won four Oscars: Best Picture, Best Director (Tom Hooper), Best Actor (Colin Firth), and Best Original Screenplay.', 'In 2011, The Artist, a silent film, charmed critics and audiences alike by reflecting on the evolution of cinema and the transition to talkies. It won five Oscars, including Best Picture, Best Actor (Jean Dujardin), Best Director (Michel Hazanavicius), Best Original Score, and Best Costume Design.', 'Argo, released in 2012, directed by and starring Ben Affleck, is a gripping thriller based on a true story. It recounts the rescue of six Americans during the Iranian Revolution. The film won three Oscars: Best Picture, Best Adapted Screenplay, and Best Film Editing.', \"In 2013, 12 Years a Slave tells the harrowing story of Solomon Northup, who was kidnapped and sold into slavery. This powerful and emotionally devastating film captivated audiences and won three Oscars: Best Picture, Best Supporting Actress (Lupita Nyong'o), and Best Adapted Screenplay.\", 'In 2014, Birdman stars Michael Keaton as a washed-up actor trying to revive his career. Despite its technical audacity, some viewers found the plot lacking depth. The film won four Oscars: Best Picture, Best Director (Alejandro G. IÃ±Ã¡rritu), Best Original Screenplay, and Best Cinematography.', 'In 2015, Spotlight chronicles the Boston Globeâ€™s investigation into systemic abuse within the Catholic Church. This universally praised film won two Oscars: Best Picture and Best Original Screenplay.', \"Moonlight, in 2016, explores identity and human emotion through three pivotal stages in a manâ€™s life. This raw and poignant narrative captured audiences' attention and won three Oscars: Best Picture, Best Supporting Actor (Mahershala Ali), and Best Adapted Screenplay.\", 'In 2017, Guillermo del Toro delivered a fantastical romance with The Shape of Water, which tells the story of a mute woman discovering a classified experiment. The film won four Oscars: Best Picture, Best Director (Guillermo del Toro), Best Original Score, and Best Production Design.', 'In 2018, Green Book explores the friendship between an African-American pianist and his Italian-American driver during a racially charged journey in the 1960s. The film won three Oscars: Best Picture, Best Supporting Actor (Mahershala Ali), and Best Original Screenplay.', 'In 2019, Bong Joon-hoâ€™s Parasite made history as the first non-English-language film to win the Oscar for Best Picture. It tells the story of two families, one wealthy and the other poor, and the intersection of their lives. The film won four Oscars: Best Picture, Best Director (Bong Joon-ho), Best Original Screenplay, and Best International Feature Film.']\n"
     ]
    }
   ],
   "execution_count": 20,
   "source": [
    "# Group sentences into chunks of 3\n",
    "# nb_sentences_per_chunk = 3\n",
    "# chunks = [' '.join(sentences[i:i+nb_sentences_per_chunk]) for i in range(0, len(sentences), nb_sentences_per_chunk)]\n",
    "# with open(\"chunks.txt\", \"w\") as f:\n",
    "#     for chunk in chunks:\n",
    "#         f.write(chunk + \"\\n\\n\")\n",
    "# len(chunks)\n",
    "\n",
    "# Read text from oscars_text.txt create chunks at each line break\n",
    "with open(\"../data/oscars_text.txt\", \"r\") as f:\n",
    "    text = f.read()\n",
    "    chunks = text.split(\"\\n\\n\")\n",
    "    print(chunks)\n"
   ],
   "id": "d37c8a1b-807d-42db-84d3-ec02778a8f7f"
  },
  {
   "metadata": {
    "ExecuteTime": {
     "end_time": "2025-01-21T14:17:43.821223Z",
     "start_time": "2025-01-21T14:17:43.807739Z"
    }
   },
   "cell_type": "code",
   "outputs": [
    {
     "data": {
      "text/plain": [
       "20"
      ]
     },
     "execution_count": 21,
     "metadata": {},
     "output_type": "execute_result"
    }
   ],
   "execution_count": 21,
   "source": [
    "with open(\"../data_result/chunks.txt\", \"w\") as f:\n",
    "    for chunk in chunks:\n",
    "        f.write(chunk+\"\\n\")\n",
    "len(chunks)"
   ],
   "id": "cfc45ad60440729d"
  },
  {
   "metadata": {
    "ExecuteTime": {
     "end_time": "2025-01-21T14:17:43.851905Z",
     "start_time": "2025-01-21T14:17:43.839475Z"
    }
   },
   "cell_type": "code",
   "outputs": [],
   "execution_count": 22,
   "source": [
    "# install tensorflow 2.12.0\n",
    "# !pip install tf-keras"
   ],
   "id": "16744519a21c622f"
  },
  {
   "metadata": {
    "ExecuteTime": {
     "end_time": "2025-01-21T14:17:54.527581Z",
     "start_time": "2025-01-21T14:17:54.518631Z"
    }
   },
   "cell_type": "code",
   "source": "relations = set()",
   "id": "a409770c20a9bf56",
   "outputs": [],
   "execution_count": 24
  },
  {
   "cell_type": "code",
   "id": "7af21afb7ff7d146",
   "metadata": {
    "ExecuteTime": {
     "end_time": "2025-01-21T14:17:54.558766Z",
     "start_time": "2025-01-21T14:17:54.543751Z"
    }
   },
   "source": [
    "# Function to parse the generated text and extract the triplets\n",
    "def extract_triplets(text):\n",
    "    triplets = []\n",
    "    relation, subject, relation, object_ = '', '', '', ''\n",
    "    text = text.strip()\n",
    "    current = 'x'\n",
    "    for token in text.replace(\"<s>\", \"\").replace(\"<pad>\", \"\").replace(\"</s>\", \"\").split():\n",
    "        if token == \"<triplet>\":\n",
    "            current = 't'\n",
    "            if relation != '':\n",
    "                triplets.append({'head': subject.strip(), 'type': relation.strip(),'tail': object_.strip()})\n",
    "                relation = ''\n",
    "            subject = ''\n",
    "        elif token == \"<subj>\":\n",
    "            current = 's'\n",
    "            if relation != '':\n",
    "                triplets.append({'head': subject.strip(), 'type': relation.strip(),'tail': object_.strip()})\n",
    "            object_ = ''\n",
    "        elif token == \"<obj>\":\n",
    "            current = 'o'\n",
    "            relation = ''\n",
    "        else:\n",
    "            if current == 't':\n",
    "                subject += ' ' + token\n",
    "            elif current == 's':\n",
    "                object_ += ' ' + token\n",
    "            elif current == 'o':\n",
    "                relation += ' ' + token\n",
    "        relations.add(relation.strip())\n",
    "    if subject != '' and relation != '' and object_ != '':\n",
    "        triplets.append({'head': subject.strip(), 'type': relation.strip(),'tail': object_.strip()})\n",
    "    return triplets"
   ],
   "outputs": [],
   "execution_count": 25
  },
  {
   "metadata": {
    "ExecuteTime": {
     "end_time": "2025-01-21T14:33:18.817316Z",
     "start_time": "2025-01-21T14:17:54.575405Z"
    }
   },
   "cell_type": "code",
   "source": [
    "# Iterate over each chunk, extract triplets and create directed knowledge graphs\n",
    "# bigG = nx.DiGraph()\n",
    "nb_chunks = len(chunks)\n",
    "for i,chunk in enumerate(chunks):\n",
    "    # print(\"Chunk number : \", i+1, \"/\" , nb_chunks , \" has sentences number : \", i*nb_sentences_per_chunk+1, \" to\", i*nb_sentences_per_chunk+nb_sentences_per_chunk)\n",
    "    extracted_text = triplet_extractor.tokenizer.batch_decode([triplet_extractor(chunk, return_tensors=True, return_text=False)[0][\"generated_token_ids\"]])\n",
    "    extracted_triplets = extract_triplets(extracted_text[0])\n",
    "    with open(\"../data_result/triplets.txt\", \"a\") as f:\n",
    "        f.write(str(extracted_triplets))\n",
    "    print(chunk)\n",
    "    # # Create directed graph with the triplets for the chunk\n",
    "    # G = nx.DiGraph()\n",
    "    # for triplet in extracted_triplets:\n",
    "    #     G.add_edge(triplet['head'], triplet['tail'], type=triplet['type'])\n",
    "    #     bigG.add_edge(triplet['head'], triplet['tail'], type=triplet['type'])\n",
    "    #\n",
    "    # # Increase node spacing and adjust layout\n",
    "    # pos = nx.spring_layout(G, k=2, seed=42)  # Adjust k for spacing\n",
    "    #\n",
    "    # # Draw nodes and edges\n",
    "    # plt.figure(figsize=(12, 10))  # Enlarge the figure\n",
    "    # nx.draw_networkx_nodes(G, pos, node_color='lightblue', node_size=1500)\n",
    "    # nx.draw_networkx_edges(\n",
    "    #     G, pos, edge_color='gray', width=1.5, arrows=True, arrowsize=15, node_size=1500\n",
    "    # )\n",
    "    # # Draw labels with bounding boxes for better visibility\n",
    "    # nx.draw_networkx_labels(\n",
    "    #     G, pos, font_size=10, font_color='black', font_weight='bold',\n",
    "    #     bbox=dict(facecolor='white', edgecolor='none', alpha=0.8)\n",
    "    # )\n",
    "    #\n",
    "    # # Edge labels\n",
    "    # edge_labels = nx.get_edge_attributes(G, 'type')\n",
    "    # nx.draw_networkx_edge_labels(G, pos, edge_labels=edge_labels, font_size=8, rotate=True)\n",
    "    #\n",
    "    # # Add margins and optimize layout\n",
    "    # plt.margins(0.3)  # Add space around the graph\n",
    "    # plt.axis('off')  # Hide axes\n",
    "    # plt.tight_layout()\n",
    "    # plt.show()\n"
   ],
   "id": "7076b891fde31a4e",
   "outputs": [
    {
     "name": "stdout",
     "output_type": "stream",
     "text": [
      "ï»¿Kevin Spacey and Thora Birch appear in a scene from American Beauty. The film won the Oscar for Best Picture at the 2000 Academy Awards. Kevin Spacey also received the Best Actor Oscar for his role as Lester, and the film won three additional Oscars for Best Director (Sam Mendes), Best Original Screenplay (Alan Ball), and Best Cinematography (Conrad L. Hall).\n",
      "In 2001, Gladiator tells the story of Roman General Maximus, played by Russell Crowe, who becomes a gladiator to avenge the murder of his family. This film won the Oscar for Best Picture at the 2001 ceremony. Russell Crowe earned the Best Actor Oscar for his outstanding performance, and the film also won Oscars for Best Costume Design, Best Sound, and Best Visual Effects.\n",
      "The biographical drama A Beautiful Mind, released in 2002, follows mathematical genius John Forbes Nash Jr., played by Russell Crowe, who struggles with schizophrenia while developing a loving relationship with Alicia Larde, portrayed by Jennifer Connelly. The film won the Oscar for Best Picture, and Jennifer Connelly received the Best Supporting Actress Oscar. Additionally, the film won Oscars for Best Director (Ron Howard) and Best Adapted Screenplay (Akiva Goldsman).\n",
      "In 2003, Chicago features Catherine Zeta-Jones in her performance of All That Jazz, an adaptation of the famous Broadway show. This film won the Oscar for Best Picture at the 2003 ceremony, and Zeta-Jones won the Oscar for Best Supporting Actress. The film also received Oscars for Best Art Direction, Best Costume Design, Best Film Editing, Best Sound Mixing, and Best Actress in a Supporting Role (RenÃ©e Zellweger was nominated for Best Actress).\n",
      "In 2004, The Lord of the Rings: The Return of the King, the third installment of the epic trilogy directed by Peter Jackson, swept the Oscars, winning all 11 categories in which it was nominated. These included Best Picture, Best Director (Peter Jackson), Best Adapted Screenplay, Best Original Score, Best Original Song (Into the West), and technical awards like Best Visual Effects, Best Art Direction, and Best Costume Design.\n",
      "Million Dollar Baby, released in 2005, tells the moving story of a determined female boxer, played by Hilary Swank, and her trainer, portrayed by Clint Eastwood. The film won the Oscar for Best Picture, Hilary Swank received her second Oscar for Best Actress, and Morgan Freeman won the Oscar for Best Supporting Actor. Clint Eastwood also won the Oscar for Best Director, and the film was nominated for Best Editing.\n",
      "Crash, which explores racial tensions in Los Angeles through interwoven stories of prejudice and redemption, won the Oscar for Best Picture at the 2006 ceremony. It also received Oscars for Best Original Screenplay and Best Film Editing.\n",
      "In 2007, The Departed by Martin Scorsese tells the gripping story of two menâ€”one infiltrating the police and the other spying for the mafia. This film won the Oscar for Best Picture and finally earned Scorsese the Oscar for Best Director. It also won Oscars for Best Adapted Screenplay and Best Film Editing.\n",
      "No Country for Old Men, a neo-Western thriller released in 2008, features Javier Bardem as the chilling Anton Chigurh. The film won the Oscar for Best Picture, and Bardem received the Oscar for Best Supporting Actor. Additionally, the film won Oscars for Best Director (Joel and Ethan Coen), Best Adapted Screenplay, and Best Film Editing.\n",
      "In 2009, Slumdog Millionaire tells the story of an orphan from the slums who participates in the game show Who Wants to Be a Millionaire?. Accused of cheating, he must recount his life story to prove his innocence. The film won eight Oscars, including Best Picture, Best Director (Danny Boyle), Best Adapted Screenplay, Best Cinematography, Best Film Editing, Best Original Score, Best Original Song (Jai Ho), and Best Sound Mixing.\n",
      "In 2010, The Kings Speech follows King George VI, played by Colin Firth, as he overcomes his stammer to deliver an inspiring speech. The film won four Oscars: Best Picture, Best Director (Tom Hooper), Best Actor (Colin Firth), and Best Original Screenplay.\n",
      "In 2011, The Artist, a silent film, charmed critics and audiences alike by reflecting on the evolution of cinema and the transition to talkies. It won five Oscars, including Best Picture, Best Actor (Jean Dujardin), Best Director (Michel Hazanavicius), Best Original Score, and Best Costume Design.\n",
      "Argo, released in 2012, directed by and starring Ben Affleck, is a gripping thriller based on a true story. It recounts the rescue of six Americans during the Iranian Revolution. The film won three Oscars: Best Picture, Best Adapted Screenplay, and Best Film Editing.\n",
      "In 2013, 12 Years a Slave tells the harrowing story of Solomon Northup, who was kidnapped and sold into slavery. This powerful and emotionally devastating film captivated audiences and won three Oscars: Best Picture, Best Supporting Actress (Lupita Nyong'o), and Best Adapted Screenplay.\n",
      "In 2014, Birdman stars Michael Keaton as a washed-up actor trying to revive his career. Despite its technical audacity, some viewers found the plot lacking depth. The film won four Oscars: Best Picture, Best Director (Alejandro G. IÃ±Ã¡rritu), Best Original Screenplay, and Best Cinematography.\n",
      "In 2015, Spotlight chronicles the Boston Globeâ€™s investigation into systemic abuse within the Catholic Church. This universally praised film won two Oscars: Best Picture and Best Original Screenplay.\n",
      "Moonlight, in 2016, explores identity and human emotion through three pivotal stages in a manâ€™s life. This raw and poignant narrative captured audiences' attention and won three Oscars: Best Picture, Best Supporting Actor (Mahershala Ali), and Best Adapted Screenplay.\n",
      "In 2017, Guillermo del Toro delivered a fantastical romance with The Shape of Water, which tells the story of a mute woman discovering a classified experiment. The film won four Oscars: Best Picture, Best Director (Guillermo del Toro), Best Original Score, and Best Production Design.\n",
      "In 2018, Green Book explores the friendship between an African-American pianist and his Italian-American driver during a racially charged journey in the 1960s. The film won three Oscars: Best Picture, Best Supporting Actor (Mahershala Ali), and Best Original Screenplay.\n",
      "In 2019, Bong Joon-hoâ€™s Parasite made history as the first non-English-language film to win the Oscar for Best Picture. It tells the story of two families, one wealthy and the other poor, and the intersection of their lives. The film won four Oscars: Best Picture, Best Director (Bong Joon-ho), Best Original Screenplay, and Best International Feature Film.\n"
     ]
    }
   ],
   "execution_count": 26
  },
  {
   "metadata": {
    "ExecuteTime": {
     "end_time": "2025-01-21T14:45:08.464463Z",
     "start_time": "2025-01-21T14:45:08.451521Z"
    }
   },
   "cell_type": "code",
   "source": [
    "# Write the relations to a file\n",
    "with open(\"../data_result/relations.txt\", \"w\") as f:\n",
    "    for relation in relations:\n",
    "        f.write(relation + \"\\n\")"
   ],
   "id": "2a34bb6ba09325cd",
   "outputs": [],
   "execution_count": 31
  },
  {
   "metadata": {
    "ExecuteTime": {
     "end_time": "2025-01-21T14:45:09.935598Z",
     "start_time": "2025-01-21T14:45:09.922599Z"
    }
   },
   "cell_type": "code",
   "source": [
    "# Define file paths\n",
    "input_file = \"../data_result/triplets.txt\"\n",
    "output_file = \"../data_result/good_triplets.csv\"\n",
    "\n",
    "# Read the input file\n",
    "with open(input_file, \"r\") as file:\n",
    "    content = file.read()\n",
    "\n",
    "# Perform the replacements\n",
    "processed_content = (\n",
    "    content.replace(\",  \", \"\")  # Replace '},' with a newline\n",
    "        .replace(\", \", \"\")    # Replace ', ' with a newline\n",
    "        .replace(\"[\", \"\")    # Remove '['\n",
    "        .replace(\"]\", \"\")    # Remove ']'\n",
    "        .replace(\"}\", \"\\n\")    # Remove '['\n",
    "        .replace(\"{\", \"\")    # Remove ']'\n",
    "        .replace(\"''\", \"','\")    # Remove '['\n",
    "        .replace(\"'\", \"\")    # Remove '['\n",
    "        .replace(\"head: \", \"\")    # Remove '['\n",
    "        .replace(\"type: \", \"\")    # Remove '['\n",
    "        .replace(\"tail: \", \"\")    # Remove '['\n",
    ")\n",
    "\n",
    "# Write the processed content to the output file\n",
    "with open(output_file, \"w\") as file:\n",
    "    file.write(\"head,type,tail\\n\")\n",
    "    file.write(processed_content)\n",
    "\n",
    "print(f\"Processing complete. Output written to {output_file}.\")"
   ],
   "id": "2aa67b6973c962e",
   "outputs": [
    {
     "name": "stdout",
     "output_type": "stream",
     "text": [
      "Processing complete. Output written to ../data_result/good_triplets.csv.\n"
     ]
    }
   ],
   "execution_count": 32
  },
  {
   "metadata": {
    "ExecuteTime": {
     "end_time": "2025-01-21T14:48:49.547960Z",
     "start_time": "2025-01-21T14:48:49.521791Z"
    }
   },
   "cell_type": "code",
   "source": [
    "# Split csv into multiple files for each \"type\"\n",
    "import pandas as pd\n",
    "df = pd.read_csv(\"../data_result/good_triplets.csv\")\n",
    "types = [\"award received\", \"director\", \"cast member\"]\n",
    "for type_ in types:\n",
    "    df[df[\"type\"] == type_][[\"head\",\"tail\"]].rename(columns={\"head\": \"movie_entity\", \"tail\": type_}).to_csv(f\"../data_result/new_{type_}.csv\", index=False)"
   ],
   "id": "aebb4d795abd04f7",
   "outputs": [],
   "execution_count": 35
  },
  {
   "metadata": {
    "ExecuteTime": {
     "end_time": "2025-01-21T14:33:19.241494Z",
     "start_time": "2025-01-21T14:33:19.227419Z"
    }
   },
   "cell_type": "code",
   "source": [
    "# # Visualize the full text knowledge graph\n",
    "#\n",
    "# # Increase node spacing and adjust layout\n",
    "# pos = nx.spring_layout(bigG, k=2, seed=42)  # Adjust k for spacing\n",
    "#\n",
    "# # Draw nodes and edges\n",
    "# plt.figure(figsize=(12, 10))  # Enlarge the figure\n",
    "# nx.draw_networkx_nodes(bigG, pos, node_color='lightblue', node_size=1500)\n",
    "# nx.draw_networkx_edges(\n",
    "#     bigG, pos, edge_color='gray', width=1.5, arrows=True, arrowsize=15, node_size=1500\n",
    "# )\n",
    "# # Draw labels with bounding boxes for better visibility\n",
    "# nx.draw_networkx_labels(\n",
    "#     bigG, pos, font_size=10, font_color='black', font_weight='bold',\n",
    "#     bbox=dict(facecolor='white', edgecolor='none', alpha=0.8)\n",
    "# )\n",
    "#\n",
    "# # Edge labels\n",
    "# edge_labels = nx.get_edge_attributes(bigG, 'type')\n",
    "# nx.draw_networkx_edge_labels(bigG, pos, edge_labels=edge_labels, font_size=8, rotate=True)\n",
    "#\n",
    "# # Add margins and optimize layout\n",
    "# plt.margins(0.3)  # Add space around the graph\n",
    "# plt.axis('off')  # Hide axes\n",
    "# plt.tight_layout()\n",
    "# plt.show()\n",
    "# # save figure\n",
    "# plt.savefig(\"output.png\")"
   ],
   "id": "36169d943188d95a",
   "outputs": [],
   "execution_count": 30
  }
 ],
 "metadata": {
  "kernelspec": {
   "display_name": "Python 3 (ipykernel)",
   "language": "python",
   "name": "python3"
  },
  "language_info": {
   "codemirror_mode": {
    "name": "ipython",
    "version": 3
   },
   "file_extension": ".py",
   "mimetype": "text/x-python",
   "name": "python",
   "nbconvert_exporter": "python",
   "pygments_lexer": "ipython3",
   "version": "3.10.15"
  }
 },
 "nbformat": 4,
 "nbformat_minor": 5
}
